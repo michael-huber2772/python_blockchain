{
 "metadata": {
  "language_info": {
   "codemirror_mode": {
    "name": "ipython",
    "version": 3
   },
   "file_extension": ".py",
   "mimetype": "text/x-python",
   "name": "python",
   "nbconvert_exporter": "python",
   "pygments_lexer": "ipython3",
   "version": "3.8.3-final"
  },
  "orig_nbformat": 2,
  "kernelspec": {
   "name": "python3",
   "display_name": "Python 3.8.3 64-bit ('python_blockchain': pipenv)",
   "metadata": {
    "interpreter": {
     "hash": "3fd2571c99c8550f813447ea14a39ca5ee811223b9b86f31ca2ebec420eedf53"
    }
   }
  }
 },
 "nbformat": 4,
 "nbformat_minor": 2,
 "cells": [
  {
   "cell_type": "code",
   "execution_count": 1,
   "metadata": {},
   "outputs": [],
   "source": [
    "# import libraries\n",
    "import hashlib\n",
    "import random\n",
    "import string\n",
    "import json\n",
    "import binascii\n",
    "import numpy as np\n",
    "import pandas as pd\n",
    "import pylab as pl\n",
    "import logging\n",
    "import datetime\n",
    "import collections\n",
    "\n",
    "# following imports are required by PKI\n",
    "import Crypto\n",
    "import Crypto.Random\n",
    "from Crypto.Hash import SHA\n",
    "from Crypto.PublicKey import RSA\n",
    "from Crypto.Signature import PKCS1_v1_5"
   ]
  },
  {
   "cell_type": "code",
   "execution_count": 2,
   "metadata": {},
   "outputs": [],
   "source": [
    "class Client:\n",
    "   def __init__(self):\n",
    "      random = Crypto.Random.new().read\n",
    "      self._private_key = RSA.generate(1024, random)\n",
    "      self._public_key = self._private_key.publickey()\n",
    "      self._signer = PKCS1_v1_5.new(self._private_key)\n",
    "\n",
    "   @property\n",
    "   def identity(self):\n",
    "      return binascii.hexlify(self._public_key.exportKey(format='DER')).decode('ascii')"
   ]
  },
  {
   "cell_type": "code",
   "execution_count": 3,
   "metadata": {},
   "outputs": [
    {
     "output_type": "stream",
     "name": "stdout",
     "text": [
      "30819f300d06092a864886f70d010101050003818d0030818902818100a038ebf7468dcc4950928eb72b1d7f42527b1a9b3a88e9d988c02f56feb7c4af3c7b91947d26bf1aff52a0d670c3df8e29203003db02b3bfb8b7ea10cc7027a7d3169ecf5bf52de015a24929a6253830280c6f85e8e1a5817fd60df50812028a82faadd25139e43ac4bc25f0a2c3b4e4263af49ec691d49f90a34b605ffa46fd0203010001\n"
     ]
    }
   ],
   "source": [
    "# How to use the client\n",
    "michael = Client()\n",
    "print(michael.identity)"
   ]
  },
  {
   "cell_type": "code",
   "execution_count": 4,
   "metadata": {},
   "outputs": [],
   "source": [
    "class Transaction:\n",
    "    '''\n",
    "    A class to represent a transaction\n",
    "\n",
    "    ...\n",
    "    \n",
    "    Attributes\n",
    "    -----------\n",
    "    sender : str\n",
    "        The senders public key taken from their instance of the Client()\n",
    "    recipient : str\n",
    "        The recipients public key taken from their instance of the Client()\n",
    "    value : int\n",
    "        The amount of coins to be sent in the transaction\n",
    "    time : datetime\n",
    "        Time the transaction took place\n",
    "\n",
    "    Mehtods\n",
    "    -------\n",
    "    to_dict():\n",
    "        Utiltiy method that combines all four attributes into a dictionary object\n",
    "    sign_transaction():\n",
    "        Used to sign the dictionary object from to_dict with the private key of the sender\n",
    "    '''\n",
    "    def __init__(self, sender, recipient, value):\n",
    "        '''\n",
    "        Constructs the 4 needed attributes for the person object\n",
    "\n",
    "            Parameters:\n",
    "            -----------\n",
    "                sender : str\n",
    "                    The senders public key taken from their instance of the Client()\n",
    "                recipient : str\n",
    "                    The recipients public key taken from their instance of the Client()\n",
    "                value : int\n",
    "                    The amount of coins to be sent in the transaction\n",
    "        \n",
    "            Returns:\n",
    "            --------\n",
    "                instance variables that can be used by other methods.\n",
    "        '''\n",
    "        self.sender = sender\n",
    "        self.recipient = recipient\n",
    "        self.value = value\n",
    "        self.time = datetime.datetime.now()\n",
    "\n",
    "    def to_dict(self):\n",
    "        '''\n",
    "        Utiltiy method that combines all four attributes into a dictionary object\n",
    "\n",
    "        The if, else checks whehter the sender of the transaction has the identity of Genesis. \n",
    "        If so they are assigned the value of genesis so their identity is kept secret\n",
    "\n",
    "        Returns\n",
    "        -------\n",
    "        Dictionary Object containing the four attributes that make up a transaction\n",
    "        '''\n",
    "        if self.sender == \"Genesis\":\n",
    "            identity = \"Genesis\"\n",
    "        else:\n",
    "            identity = self.sender.identity\n",
    "\n",
    "        return collections.OrderedDict({\n",
    "            'sender': identity,\n",
    "            'recipient': self.recipient,\n",
    "            'value': self.value,\n",
    "            'time' : self.time})\n",
    "\n",
    "     # Used to retrieve the senders private key       \n",
    "    def sign_transaction(self):\n",
    "        '''\n",
    "        Used to sign the dictionary object from to_dict with the private key of the sender\n",
    "\n",
    "        Returns\n",
    "        -------\n",
    "        The private key of the sender\n",
    "        '''\n",
    "        private_key = self.sender._private_key\n",
    "        signer = PKCS1_v1_5.new(private_key)\n",
    "        h = SHA.new(str(self.to_dict()).encode('utf8'))\n",
    "        return binascii.hexlify(signer.sign(h)).decode('ascii')\n"
   ]
  },
  {
   "cell_type": "code",
   "execution_count": 5,
   "metadata": {},
   "outputs": [
    {
     "output_type": "stream",
     "name": "stdout",
     "text": [
      "OrderedDict([('sender', '30819f300d06092a864886f70d010101050003818d0030818902818100d00bc7114adc5a9f8274974daa283e4cfc1102aaa6a7b834a45ba0aa761ab999d05b165ba335ce52ff56029d6bf89c119f8265c44178a70b09f6cf128f6d2b69cd805a6ce5692ba087d5c5e7a231a33f2fc47988682e50b766e4e8bd80d73cdb7cc4edc9a15dff1ec5cc4d3df3c3278bbdb552104855d71e4b399300e50ef95d0203010001'), ('recipient', '30819f300d06092a864886f70d010101050003818d0030818902818100c13d92946185e5d87c7cf78e6a7a5309da9e5c4c6bd626b4e55f9109542029a3c75d89d3e8a9dd30f8133cb58df26840bed29b3c3bd7b6a14d051f805db205ef8672af04f2b49cb5584af994e1246e32e1abc1020c65886f46b0ea51af2a78a6503ec020ca457b27c9638c421d9570335a28eecde77e0a696665b4894e879ae50203010001'), ('value', 5.0), ('time', datetime.datetime(2021, 2, 4, 4, 20, 55, 227560))])\n1d18365735eec1823e29c1a2fd0ffb346358da107f3f1db434e036c7d6f7ce8c5f2d0946b0004f8ff09871b809f1a3ef960731770f7f1bb85a4778a63d38243e5aedc21c84994ed2503399cff3d40adbeb720efd0ccbe3f60737aa35eface6cf14c6b84e9fa8f476c21d64186fb666b2476de20d50acb716c0eb650e743de02a\n"
     ]
    }
   ],
   "source": [
    "# Testing the Transaction Class\n",
    "\n",
    "# Michael is going to send 5 coins to Tyler\n",
    "# To do this we first create the clients\n",
    "michael = Client()\n",
    "tyler = Client()\n",
    "\n",
    "# Create the transaction with the following code\n",
    "t = Transaction(\n",
    "    michael,  # Sender\n",
    "    tyler.identity, # Gets tylers public key\n",
    "    5.0  # Amount transferred\n",
    ")\n",
    "\n",
    "# Printing the transaction to review it\n",
    "print(t.to_dict())\n",
    "\n",
    "# Once we have created the transaction we can sign it with the senders private key.\n",
    "signature = t.sign_transaction()\n",
    "print(signature)\n"
   ]
  },
  {
   "cell_type": "code",
   "execution_count": 6,
   "metadata": {},
   "outputs": [],
   "source": [
    "# Next section to start https://www.tutorialspoint.com/python_blockchain/python_blockchain_creating_multiple_transactions.htm"
   ]
  },
  {
   "cell_type": "code",
   "execution_count": 7,
   "metadata": {},
   "outputs": [],
   "source": [
    "def display_transaction(transaction):\n",
    "   #for transaction in transactions:\n",
    "   dict = transaction.to_dict()\n",
    "   print (\"sender: \" + dict['sender'])\n",
    "   print ('-----')\n",
    "   print (\"recipient: \" + dict['recipient'])\n",
    "   print ('-----')\n",
    "   print (\"value: \" + str(dict['value']))\n",
    "   print ('-----')\n",
    "   print (\"time: \" + str(dict['time']))\n",
    "   print ('-----')"
   ]
  },
  {
   "cell_type": "code",
   "execution_count": 8,
   "metadata": {},
   "outputs": [],
   "source": [
    "# Queue Where transactions are stored before they are added to the blockchain\n",
    "# Not implementing the queue management logic\n",
    "transactions = []"
   ]
  },
  {
   "cell_type": "code",
   "execution_count": 9,
   "metadata": {},
   "outputs": [],
   "source": [
    "# Creating multiple clients\n",
    "mike = Client()\n",
    "steve = Client()\n",
    "rose = Client()\n",
    "rachel = Client()"
   ]
  },
  {
   "cell_type": "code",
   "execution_count": 10,
   "metadata": {},
   "outputs": [],
   "source": [
    "# Initiating the first transaction\n",
    "t1 = Transaction(\n",
    "    mike,\n",
    "    steve.identity,\n",
    "    15.0\n",
    ")"
   ]
  },
  {
   "cell_type": "code",
   "execution_count": 11,
   "metadata": {},
   "outputs": [],
   "source": [
    "# Adding the first transaction to the queue\n",
    "t1.sign_transaction()\n",
    "transactions.append(t1)"
   ]
  },
  {
   "cell_type": "code",
   "execution_count": 12,
   "metadata": {},
   "outputs": [],
   "source": [
    "t2 = Transaction(\n",
    "   mike,\n",
    "   rose.identity,\n",
    "   6.0\n",
    ")\n",
    "t2.sign_transaction()\n",
    "transactions.append(t2)\n",
    "t3 = Transaction(\n",
    "   steve,\n",
    "   rachel.identity,\n",
    "   2.0\n",
    ")\n",
    "t3.sign_transaction()\n",
    "transactions.append(t3)\n",
    "t4 = Transaction(\n",
    "   rose,\n",
    "   steve.identity,\n",
    "   4.0\n",
    ")\n",
    "t4.sign_transaction()\n",
    "transactions.append(t4)\n",
    "t5 = Transaction(\n",
    "   mike,\n",
    "   rose.identity,\n",
    "   7.0\n",
    ")\n",
    "t5.sign_transaction()\n",
    "transactions.append(t5)\n",
    "t6 = Transaction(\n",
    "   rose,\n",
    "   rachel.identity,\n",
    "   3.0\n",
    ")\n",
    "t6.sign_transaction()\n",
    "transactions.append(t6)\n",
    "t7 = Transaction(\n",
    "   rachel,\n",
    "   steve.identity,\n",
    "   8.0\n",
    ")\n",
    "t7.sign_transaction()\n",
    "transactions.append(t7)\n",
    "t8 = Transaction(\n",
    "   rachel,\n",
    "   mike.identity,\n",
    "   1.0\n",
    ")\n",
    "t8.sign_transaction()\n",
    "transactions.append(t8)\n",
    "t9 = Transaction(\n",
    "   steve,\n",
    "   mike.identity,\n",
    "   5.0\n",
    ")\n",
    "t9.sign_transaction()\n",
    "transactions.append(t9)\n",
    "t10 = Transaction(\n",
    "   steve,\n",
    "   rose.identity,\n",
    "   3.0\n",
    ")\n",
    "t10.sign_transaction()\n",
    "transactions.append(t10)"
   ]
  },
  {
   "cell_type": "code",
   "execution_count": 13,
   "metadata": {},
   "outputs": [
    {
     "output_type": "stream",
     "name": "stdout",
     "text": [
      "sender: 30819f300d06092a864886f70d010101050003818d0030818902818100c49b29192ed51067c9e1166f10c44072c89c2cffe2004092747971a13c0096c2f001d075a685497ad4abaf8a334692f140d9d2abcefb1989fb1c22ae5942ae4a2ccc1fe1200e226c8a108589edb40ab0d0e0dc280044fef3db95d55efbece2166b678c3ef8067572badb32f3652e0b08b3c98a0185604e67e1b4cbcd253b20630203010001\n-----\nrecipient: 30819f300d06092a864886f70d010101050003818d0030818902818100949e27a6c2001e17fa8d6afabb4398cf43711b44261b0520680f9b6d0810aa61028d168faf1538647526e8743306108c78b7d207ef3ba0390d444a06bef3a9c0497a79f4294501430a11aa95ccd89779a79b7ddcad9c9c089dc363a18c66c83b0f9f36635c8f9a17d6cdc1e42a607f9bcc595a1e0995ce9c2ee2cbc29f8693790203010001\n-----\nvalue: 15.0\n-----\ntime: 2021-02-04 04:20:56.396418\n-----\n----------------\nsender: 30819f300d06092a864886f70d010101050003818d0030818902818100c49b29192ed51067c9e1166f10c44072c89c2cffe2004092747971a13c0096c2f001d075a685497ad4abaf8a334692f140d9d2abcefb1989fb1c22ae5942ae4a2ccc1fe1200e226c8a108589edb40ab0d0e0dc280044fef3db95d55efbece2166b678c3ef8067572badb32f3652e0b08b3c98a0185604e67e1b4cbcd253b20630203010001\n-----\nrecipient: 30819f300d06092a864886f70d010101050003818d00308189028181008d25b9444ca5fa8181df4573bb36bfe58875129c04e58ac28bfa100925ecb38a50783351df76c37a0bad9eceb4ab81eae84b87ef09bf122c273151a963f252f760bab418c086cff101b0500101b6069ec64804453df02847c59bd1e86905ba3b69ce51aa09aa3e83300a6791616809fcb8adbd8aae06d4350addbe48bf7d09d70203010001\n-----\nvalue: 6.0\n-----\ntime: 2021-02-04 04:20:56.529990\n-----\n----------------\nsender: 30819f300d06092a864886f70d010101050003818d0030818902818100949e27a6c2001e17fa8d6afabb4398cf43711b44261b0520680f9b6d0810aa61028d168faf1538647526e8743306108c78b7d207ef3ba0390d444a06bef3a9c0497a79f4294501430a11aa95ccd89779a79b7ddcad9c9c089dc363a18c66c83b0f9f36635c8f9a17d6cdc1e42a607f9bcc595a1e0995ce9c2ee2cbc29f8693790203010001\n-----\nrecipient: 30819f300d06092a864886f70d010101050003818d0030818902818100ba7ad69d39e6e53734517e20a98e0ae57882b7939633620b59e77cb3c8eda52f55e8e68bb8185009f598bd33a39ba2994708af0dd90c84acdd9044c46b0df873fc2caba13e244346c5b60624b827ed6b1f971ebdce02c435e4ec99a8735744915cc5316af99877d65affe7bd0faea0c0c862f2c36d430002baacc0301cef39c30203010001\n-----\nvalue: 2.0\n-----\ntime: 2021-02-04 04:20:56.533988\n-----\n----------------\nsender: 30819f300d06092a864886f70d010101050003818d00308189028181008d25b9444ca5fa8181df4573bb36bfe58875129c04e58ac28bfa100925ecb38a50783351df76c37a0bad9eceb4ab81eae84b87ef09bf122c273151a963f252f760bab418c086cff101b0500101b6069ec64804453df02847c59bd1e86905ba3b69ce51aa09aa3e83300a6791616809fcb8adbd8aae06d4350addbe48bf7d09d70203010001\n-----\nrecipient: 30819f300d06092a864886f70d010101050003818d0030818902818100949e27a6c2001e17fa8d6afabb4398cf43711b44261b0520680f9b6d0810aa61028d168faf1538647526e8743306108c78b7d207ef3ba0390d444a06bef3a9c0497a79f4294501430a11aa95ccd89779a79b7ddcad9c9c089dc363a18c66c83b0f9f36635c8f9a17d6cdc1e42a607f9bcc595a1e0995ce9c2ee2cbc29f8693790203010001\n-----\nvalue: 4.0\n-----\ntime: 2021-02-04 04:20:56.538008\n-----\n----------------\nsender: 30819f300d06092a864886f70d010101050003818d0030818902818100c49b29192ed51067c9e1166f10c44072c89c2cffe2004092747971a13c0096c2f001d075a685497ad4abaf8a334692f140d9d2abcefb1989fb1c22ae5942ae4a2ccc1fe1200e226c8a108589edb40ab0d0e0dc280044fef3db95d55efbece2166b678c3ef8067572badb32f3652e0b08b3c98a0185604e67e1b4cbcd253b20630203010001\n-----\nrecipient: 30819f300d06092a864886f70d010101050003818d00308189028181008d25b9444ca5fa8181df4573bb36bfe58875129c04e58ac28bfa100925ecb38a50783351df76c37a0bad9eceb4ab81eae84b87ef09bf122c273151a963f252f760bab418c086cff101b0500101b6069ec64804453df02847c59bd1e86905ba3b69ce51aa09aa3e83300a6791616809fcb8adbd8aae06d4350addbe48bf7d09d70203010001\n-----\nvalue: 7.0\n-----\ntime: 2021-02-04 04:20:56.540985\n-----\n----------------\nsender: 30819f300d06092a864886f70d010101050003818d00308189028181008d25b9444ca5fa8181df4573bb36bfe58875129c04e58ac28bfa100925ecb38a50783351df76c37a0bad9eceb4ab81eae84b87ef09bf122c273151a963f252f760bab418c086cff101b0500101b6069ec64804453df02847c59bd1e86905ba3b69ce51aa09aa3e83300a6791616809fcb8adbd8aae06d4350addbe48bf7d09d70203010001\n-----\nrecipient: 30819f300d06092a864886f70d010101050003818d0030818902818100ba7ad69d39e6e53734517e20a98e0ae57882b7939633620b59e77cb3c8eda52f55e8e68bb8185009f598bd33a39ba2994708af0dd90c84acdd9044c46b0df873fc2caba13e244346c5b60624b827ed6b1f971ebdce02c435e4ec99a8735744915cc5316af99877d65affe7bd0faea0c0c862f2c36d430002baacc0301cef39c30203010001\n-----\nvalue: 3.0\n-----\ntime: 2021-02-04 04:20:56.542986\n-----\n----------------\nsender: 30819f300d06092a864886f70d010101050003818d0030818902818100ba7ad69d39e6e53734517e20a98e0ae57882b7939633620b59e77cb3c8eda52f55e8e68bb8185009f598bd33a39ba2994708af0dd90c84acdd9044c46b0df873fc2caba13e244346c5b60624b827ed6b1f971ebdce02c435e4ec99a8735744915cc5316af99877d65affe7bd0faea0c0c862f2c36d430002baacc0301cef39c30203010001\n-----\nrecipient: 30819f300d06092a864886f70d010101050003818d0030818902818100949e27a6c2001e17fa8d6afabb4398cf43711b44261b0520680f9b6d0810aa61028d168faf1538647526e8743306108c78b7d207ef3ba0390d444a06bef3a9c0497a79f4294501430a11aa95ccd89779a79b7ddcad9c9c089dc363a18c66c83b0f9f36635c8f9a17d6cdc1e42a607f9bcc595a1e0995ce9c2ee2cbc29f8693790203010001\n-----\nvalue: 8.0\n-----\ntime: 2021-02-04 04:20:56.544986\n-----\n----------------\nsender: 30819f300d06092a864886f70d010101050003818d0030818902818100ba7ad69d39e6e53734517e20a98e0ae57882b7939633620b59e77cb3c8eda52f55e8e68bb8185009f598bd33a39ba2994708af0dd90c84acdd9044c46b0df873fc2caba13e244346c5b60624b827ed6b1f971ebdce02c435e4ec99a8735744915cc5316af99877d65affe7bd0faea0c0c862f2c36d430002baacc0301cef39c30203010001\n-----\nrecipient: 30819f300d06092a864886f70d010101050003818d0030818902818100c49b29192ed51067c9e1166f10c44072c89c2cffe2004092747971a13c0096c2f001d075a685497ad4abaf8a334692f140d9d2abcefb1989fb1c22ae5942ae4a2ccc1fe1200e226c8a108589edb40ab0d0e0dc280044fef3db95d55efbece2166b678c3ef8067572badb32f3652e0b08b3c98a0185604e67e1b4cbcd253b20630203010001\n-----\nvalue: 1.0\n-----\ntime: 2021-02-04 04:20:56.546986\n-----\n----------------\nsender: 30819f300d06092a864886f70d010101050003818d0030818902818100949e27a6c2001e17fa8d6afabb4398cf43711b44261b0520680f9b6d0810aa61028d168faf1538647526e8743306108c78b7d207ef3ba0390d444a06bef3a9c0497a79f4294501430a11aa95ccd89779a79b7ddcad9c9c089dc363a18c66c83b0f9f36635c8f9a17d6cdc1e42a607f9bcc595a1e0995ce9c2ee2cbc29f8693790203010001\n-----\nrecipient: 30819f300d06092a864886f70d010101050003818d0030818902818100c49b29192ed51067c9e1166f10c44072c89c2cffe2004092747971a13c0096c2f001d075a685497ad4abaf8a334692f140d9d2abcefb1989fb1c22ae5942ae4a2ccc1fe1200e226c8a108589edb40ab0d0e0dc280044fef3db95d55efbece2166b678c3ef8067572badb32f3652e0b08b3c98a0185604e67e1b4cbcd253b20630203010001\n-----\nvalue: 5.0\n-----\ntime: 2021-02-04 04:20:56.548983\n-----\n----------------\nsender: 30819f300d06092a864886f70d010101050003818d0030818902818100949e27a6c2001e17fa8d6afabb4398cf43711b44261b0520680f9b6d0810aa61028d168faf1538647526e8743306108c78b7d207ef3ba0390d444a06bef3a9c0497a79f4294501430a11aa95ccd89779a79b7ddcad9c9c089dc363a18c66c83b0f9f36635c8f9a17d6cdc1e42a607f9bcc595a1e0995ce9c2ee2cbc29f8693790203010001\n-----\nrecipient: 30819f300d06092a864886f70d010101050003818d00308189028181008d25b9444ca5fa8181df4573bb36bfe58875129c04e58ac28bfa100925ecb38a50783351df76c37a0bad9eceb4ab81eae84b87ef09bf122c273151a963f252f760bab418c086cff101b0500101b6069ec64804453df02847c59bd1e86905ba3b69ce51aa09aa3e83300a6791616809fcb8adbd8aae06d4350addbe48bf7d09d70203010001\n-----\nvalue: 3.0\n-----\ntime: 2021-02-04 04:20:56.550986\n-----\n----------------\n"
     ]
    }
   ],
   "source": [
    "for transaction in transactions:\n",
    "    display_transaction (transaction)\n",
    "    print('----------------')"
   ]
  },
  {
   "source": [
    "A block consists of a varying number of transactions. For simplicity, in our case we will assume that the block consists of a fixed number of transactions"
   ],
   "cell_type": "markdown",
   "metadata": {}
  },
  {
   "cell_type": "code",
   "execution_count": 14,
   "metadata": {},
   "outputs": [],
   "source": [
    "# blockchain is a list of blocks chained to each other\n",
    "# For our list we will create the following list variable\n",
    "TPCoins = []\n",
    "\n",
    "class Block:\n",
    "    '''\n",
    "    Blockchain\n",
    "    ...\n",
    "\n",
    "    Attributes\n",
    "    -----------\n",
    "    verified_transactions : list\n",
    "        Verified transactions will be added to this block. Each block also contains the\n",
    "        hash value of the previous block. Making the chain immutable\n",
    "    previous_block_hash : str\n",
    "        Instance varaible to store the previous hash\n",
    "    Nonce : str\n",
    "        Variable to store the Nonce created by the miner during the mining process\n",
    "    '''\n",
    "    def __init__(self):\n",
    "        self.verified_transactions = []\n",
    "        self.previous_block_hash = ''\n",
    "        self.Nonce = ''\n",
    "\n",
    "def dump_blockchain(self):\n",
    "    '''\n",
    "    Dumps the contents of the entire blockchain.\n",
    "\n",
    "    Description\n",
    "    ------------\n",
    "    1. It prints the number of blocks in the current blockchain\n",
    "    2. Next the blocks are copied to a temp variable named block_temp\n",
    "    3. Print block number as heading for each block\n",
    "    4. Then iterate over the transactions in each block\n",
    "    '''\n",
    "    print('Number of blocks in the chain: ' + str(len (self)))\n",
    "\n",
    "    for x in range (len(TPCoins)):\n",
    "        block_temp = TPCoins[x]\n",
    "        print('block # ' + str(x))\n",
    "        for transaction in block_temp.verified_transactions:\n",
    "            display_transaction (transaction)\n",
    "            print ('--------------')\n",
    "        print ('=====================================')\n",
    "\n",
    "# Global variable \n",
    "last_block_hash = ''"
   ]
  },
  {
   "cell_type": "code",
   "execution_count": 15,
   "metadata": {},
   "outputs": [],
   "source": [
    "# Genesis block: 500 coins are given out to the client michael\n",
    "michael = Client()\n",
    "\n",
    "t0 = Transaction (\n",
    "    'Genesis',\n",
    "    michael.identity,\n",
    "    500.00\n",
    ")\n",
    "\n",
    "# Create an instance of the Block class\n",
    "block0 = Block()\n",
    "\n",
    "# Where this is the first block we initialize the previous_block_hash and Nonce to none.\n",
    "block0.previous_block_hash = None \n",
    "block0.Nonce = None\n",
    "\n",
    "# Add the transaction to the verified transactions\n",
    "block0.verified_transactions.append (t0)\n",
    "\n",
    "# The block is now ready to be added to the blockchain. Before we do this we will hash the\n",
    "# block and store its value in the global variable `last_block_hash`\n",
    "digest = hash (block0)\n",
    "last_block_hash = digest"
   ]
  },
  {
   "cell_type": "code",
   "execution_count": 16,
   "metadata": {},
   "outputs": [
    {
     "output_type": "stream",
     "name": "stdout",
     "text": [
      "Number of blocks in the chain: 1\nblock # 0\nsender: Genesis\n-----\nrecipient: 30819f300d06092a864886f70d010101050003818d00308189028181008760f10628d8d0fbe2dc4e92b6777301e3f2ec965804d14e3b9cfa0eefc3d23cd2e2bc8d0d93d9c82b9f92c0b3709ed49a9238316ecfcbe9fd6c5da9554e61b77d6e5ba8db8923af6d176b716490b8242274a75cb3fa6aa2ab1c38cf3063c0f6ce65c0bd1eb72be52de808ad987f7b1abc449598b3ff54157f2a216df5366f570203010001\n-----\nvalue: 500.0\n-----\ntime: 2021-02-04 04:20:57.285985\n-----\n--------------\n=====================================\n"
     ]
    }
   ],
   "source": [
    "\n",
    "TPCoins.append(block0)\n",
    "\n",
    "dump_blockchain(TPCoins)\n"
   ]
  },
  {
   "cell_type": "code",
   "execution_count": 23,
   "metadata": {},
   "outputs": [],
   "source": [
    "def sha256(message):\n",
    "    '''\n",
    "    Utility function for creating a digest on a given message\n",
    "\n",
    "    This function takes a message as it parameter, encodes it to ASCII, generates a\n",
    "    hexadecimal digest and returns the value to the caller.\n",
    "    '''\n",
    "    return hashlib.sha256(message.encode('ascii')).hexdigest()\n",
    "\n",
    "\n",
    "\n",
    "# Mining Strategy: Generate a hash on the given message prefixed with a given number of 1's\n",
    "# The given number of 1's is specified as a parameter to mine function specified as the \n",
    "# difficulty level.\n",
    "\n",
    "# E.g. if you specify a difficulty level of 2, the gnerate has on a given message will start\n",
    "# with two 1's.\n",
    "\n",
    "def mine(message, difficulty=1):\n",
    "    '''\n",
    "    Mining function to generate a hash on the given message prefixed with 1's\n",
    "\n",
    "    Parameters:\n",
    "    ------------\n",
    "    message : str\n",
    "\n",
    "    difficulty : int\n",
    "        difficulty level that specifies how many ones to add to the beginning of the message\n",
    "    '''\n",
    "    assert difficulty >= 1\n",
    "\n",
    "    prefix = '1' * difficulty\n",
    "    print(prefix)\n",
    "    for i in range(1000):\n",
    "        digest = sha256(str(hash(message)) + str(i))\n",
    "        if digest.startswith(prefix):\n",
    "            print('after ' + str(i) + ' iterations found nonce: '+ digest)\n",
    "            return digest\n",
    "\n"
   ]
  },
  {
   "cell_type": "code",
   "execution_count": 24,
   "metadata": {},
   "outputs": [
    {
     "output_type": "stream",
     "name": "stdout",
     "text": [
      "11\nafter 192 iterations found nonce: 110ee90ae717aa331a76aab5fc5ac5125a772da9a88533ac6a981ad5ee0bbbaf\n"
     ]
    },
    {
     "output_type": "execute_result",
     "data": {
      "text/plain": [
       "'110ee90ae717aa331a76aab5fc5ac5125a772da9a88533ac6a981ad5ee0bbbaf'"
      ]
     },
     "metadata": {},
     "execution_count": 24
    }
   ],
   "source": [
    "# test mining function\n",
    "mine('test message', 2)\n",
    "# Not returing correctly"
   ]
  },
  {
   "cell_type": "code",
   "execution_count": 25,
   "metadata": {},
   "outputs": [],
   "source": [
    "# Global variable to track the number of messages already mined\n",
    "last_transaction_index = 0"
   ]
  },
  {
   "cell_type": "code",
   "execution_count": 26,
   "metadata": {},
   "outputs": [
    {
     "output_type": "stream",
     "name": "stdout",
     "text": [
      "11\nafter 149 iterations found nonce: 11b3bb6b1164df5eb4121645e75e278e738f06009519efb21e9e31d345f4b9da\n11\nafter 149 iterations found nonce: 11b3bb6b1164df5eb4121645e75e278e738f06009519efb21e9e31d345f4b9da\n11\nafter 149 iterations found nonce: 11b3bb6b1164df5eb4121645e75e278e738f06009519efb21e9e31d345f4b9da\n"
     ]
    }
   ],
   "source": [
    "# Add a new block to the blockchain\n",
    "block = Block()\n",
    "\n",
    "for i in range(3):\n",
    "    temp_transaction = transactions[last_transaction_index]\n",
    "    # validate transaction - Not added as part of this tutorial\n",
    "\n",
    "    # Essentially you would validate the hash generated by the sender against the hash\n",
    "    # generated by the miner using the senders public key.\n",
    "    # Then the miner would verify the sender has sufficient balance to pay the current\n",
    "    # transaction.\n",
    "\n",
    "    # if valid\n",
    "    block.verified_transactions.append(temp_transaction)\n",
    "   last_transaction_index += 1\n",
    "\n",
    "block.previous_block_hash = last_block_hash\n",
    "block.Nonce = mine (block, 2)\n",
    "digest = hash (block)\n",
    "TPCoins.append (block)\n",
    "last_block_hash = digest"
   ]
  },
  {
   "cell_type": "code",
   "execution_count": 28,
   "metadata": {},
   "outputs": [
    {
     "output_type": "stream",
     "name": "stdout",
     "text": [
      "11\nafter 24 iterations found nonce: 1198476a0dfb4c5aadea21ca806a284da9f46cd349fd2c4fc13a86b03795780e\n11\nafter 349 iterations found nonce: 118e72c5ef576ffb071dda9a5a27d5c2b80e2fa9d60043a1313c45260a884b74\n"
     ]
    }
   ],
   "source": [
    "# Code for adding the next two blocks\n",
    "# Miner 2 adds a block\n",
    "block = Block()\n",
    "\n",
    "for i in range(3):\n",
    "   temp_transaction = transactions[last_transaction_index]\n",
    "   # validate transaction\n",
    "   # if valid\n",
    "   block.verified_transactions.append (temp_transaction)\n",
    "   last_transaction_index += 1\n",
    "block.previous_block_hash = last_block_hash\n",
    "block.Nonce = mine (block, 2)\n",
    "digest = hash (block)\n",
    "TPCoins.append (block)\n",
    "last_block_hash = digest\n",
    "# Miner 3 adds a block\n",
    "block = Block()\n",
    "\n",
    "for i in range(3):\n",
    "   temp_transaction = transactions[last_transaction_index]\n",
    "   #display_transaction (temp_transaction)\n",
    "   # validate transaction\n",
    "   # if valid\n",
    "   block.verified_transactions.append (temp_transaction)\n",
    "   last_transaction_index += 1\n",
    "\n",
    "block.previous_block_hash = last_block_hash\n",
    "block.Nonce = mine (block, 2)\n",
    "digest = hash (block)\n",
    "\n",
    "TPCoins.append (block)\n",
    "last_block_hash = digest\n"
   ]
  },
  {
   "cell_type": "code",
   "execution_count": 30,
   "metadata": {},
   "outputs": [
    {
     "output_type": "stream",
     "name": "stdout",
     "text": [
      "Number of blocks in the chain: 6\nblock # 0\nsender: Genesis\n-----\nrecipient: 30819f300d06092a864886f70d010101050003818d00308189028181008760f10628d8d0fbe2dc4e92b6777301e3f2ec965804d14e3b9cfa0eefc3d23cd2e2bc8d0d93d9c82b9f92c0b3709ed49a9238316ecfcbe9fd6c5da9554e61b77d6e5ba8db8923af6d176b716490b8242274a75cb3fa6aa2ab1c38cf3063c0f6ce65c0bd1eb72be52de808ad987f7b1abc449598b3ff54157f2a216df5366f570203010001\n-----\nvalue: 500.0\n-----\ntime: 2021-02-04 04:20:57.285985\n-----\n--------------\n=====================================\nblock # 1\nsender: 30819f300d06092a864886f70d010101050003818d0030818902818100c49b29192ed51067c9e1166f10c44072c89c2cffe2004092747971a13c0096c2f001d075a685497ad4abaf8a334692f140d9d2abcefb1989fb1c22ae5942ae4a2ccc1fe1200e226c8a108589edb40ab0d0e0dc280044fef3db95d55efbece2166b678c3ef8067572badb32f3652e0b08b3c98a0185604e67e1b4cbcd253b20630203010001\n-----\nrecipient: 30819f300d06092a864886f70d010101050003818d0030818902818100949e27a6c2001e17fa8d6afabb4398cf43711b44261b0520680f9b6d0810aa61028d168faf1538647526e8743306108c78b7d207ef3ba0390d444a06bef3a9c0497a79f4294501430a11aa95ccd89779a79b7ddcad9c9c089dc363a18c66c83b0f9f36635c8f9a17d6cdc1e42a607f9bcc595a1e0995ce9c2ee2cbc29f8693790203010001\n-----\nvalue: 15.0\n-----\ntime: 2021-02-04 04:20:56.396418\n-----\n--------------\nsender: 30819f300d06092a864886f70d010101050003818d0030818902818100c49b29192ed51067c9e1166f10c44072c89c2cffe2004092747971a13c0096c2f001d075a685497ad4abaf8a334692f140d9d2abcefb1989fb1c22ae5942ae4a2ccc1fe1200e226c8a108589edb40ab0d0e0dc280044fef3db95d55efbece2166b678c3ef8067572badb32f3652e0b08b3c98a0185604e67e1b4cbcd253b20630203010001\n-----\nrecipient: 30819f300d06092a864886f70d010101050003818d0030818902818100949e27a6c2001e17fa8d6afabb4398cf43711b44261b0520680f9b6d0810aa61028d168faf1538647526e8743306108c78b7d207ef3ba0390d444a06bef3a9c0497a79f4294501430a11aa95ccd89779a79b7ddcad9c9c089dc363a18c66c83b0f9f36635c8f9a17d6cdc1e42a607f9bcc595a1e0995ce9c2ee2cbc29f8693790203010001\n-----\nvalue: 15.0\n-----\ntime: 2021-02-04 04:20:56.396418\n-----\n--------------\nsender: 30819f300d06092a864886f70d010101050003818d0030818902818100c49b29192ed51067c9e1166f10c44072c89c2cffe2004092747971a13c0096c2f001d075a685497ad4abaf8a334692f140d9d2abcefb1989fb1c22ae5942ae4a2ccc1fe1200e226c8a108589edb40ab0d0e0dc280044fef3db95d55efbece2166b678c3ef8067572badb32f3652e0b08b3c98a0185604e67e1b4cbcd253b20630203010001\n-----\nrecipient: 30819f300d06092a864886f70d010101050003818d0030818902818100949e27a6c2001e17fa8d6afabb4398cf43711b44261b0520680f9b6d0810aa61028d168faf1538647526e8743306108c78b7d207ef3ba0390d444a06bef3a9c0497a79f4294501430a11aa95ccd89779a79b7ddcad9c9c089dc363a18c66c83b0f9f36635c8f9a17d6cdc1e42a607f9bcc595a1e0995ce9c2ee2cbc29f8693790203010001\n-----\nvalue: 15.0\n-----\ntime: 2021-02-04 04:20:56.396418\n-----\n--------------\n=====================================\nblock # 2\nsender: 30819f300d06092a864886f70d010101050003818d0030818902818100c49b29192ed51067c9e1166f10c44072c89c2cffe2004092747971a13c0096c2f001d075a685497ad4abaf8a334692f140d9d2abcefb1989fb1c22ae5942ae4a2ccc1fe1200e226c8a108589edb40ab0d0e0dc280044fef3db95d55efbece2166b678c3ef8067572badb32f3652e0b08b3c98a0185604e67e1b4cbcd253b20630203010001\n-----\nrecipient: 30819f300d06092a864886f70d010101050003818d0030818902818100949e27a6c2001e17fa8d6afabb4398cf43711b44261b0520680f9b6d0810aa61028d168faf1538647526e8743306108c78b7d207ef3ba0390d444a06bef3a9c0497a79f4294501430a11aa95ccd89779a79b7ddcad9c9c089dc363a18c66c83b0f9f36635c8f9a17d6cdc1e42a607f9bcc595a1e0995ce9c2ee2cbc29f8693790203010001\n-----\nvalue: 15.0\n-----\ntime: 2021-02-04 04:20:56.396418\n-----\n--------------\nsender: 30819f300d06092a864886f70d010101050003818d0030818902818100c49b29192ed51067c9e1166f10c44072c89c2cffe2004092747971a13c0096c2f001d075a685497ad4abaf8a334692f140d9d2abcefb1989fb1c22ae5942ae4a2ccc1fe1200e226c8a108589edb40ab0d0e0dc280044fef3db95d55efbece2166b678c3ef8067572badb32f3652e0b08b3c98a0185604e67e1b4cbcd253b20630203010001\n-----\nrecipient: 30819f300d06092a864886f70d010101050003818d0030818902818100949e27a6c2001e17fa8d6afabb4398cf43711b44261b0520680f9b6d0810aa61028d168faf1538647526e8743306108c78b7d207ef3ba0390d444a06bef3a9c0497a79f4294501430a11aa95ccd89779a79b7ddcad9c9c089dc363a18c66c83b0f9f36635c8f9a17d6cdc1e42a607f9bcc595a1e0995ce9c2ee2cbc29f8693790203010001\n-----\nvalue: 15.0\n-----\ntime: 2021-02-04 04:20:56.396418\n-----\n--------------\nsender: 30819f300d06092a864886f70d010101050003818d0030818902818100c49b29192ed51067c9e1166f10c44072c89c2cffe2004092747971a13c0096c2f001d075a685497ad4abaf8a334692f140d9d2abcefb1989fb1c22ae5942ae4a2ccc1fe1200e226c8a108589edb40ab0d0e0dc280044fef3db95d55efbece2166b678c3ef8067572badb32f3652e0b08b3c98a0185604e67e1b4cbcd253b20630203010001\n-----\nrecipient: 30819f300d06092a864886f70d010101050003818d0030818902818100949e27a6c2001e17fa8d6afabb4398cf43711b44261b0520680f9b6d0810aa61028d168faf1538647526e8743306108c78b7d207ef3ba0390d444a06bef3a9c0497a79f4294501430a11aa95ccd89779a79b7ddcad9c9c089dc363a18c66c83b0f9f36635c8f9a17d6cdc1e42a607f9bcc595a1e0995ce9c2ee2cbc29f8693790203010001\n-----\nvalue: 15.0\n-----\ntime: 2021-02-04 04:20:56.396418\n-----\n--------------\n=====================================\nblock # 3\nsender: 30819f300d06092a864886f70d010101050003818d0030818902818100c49b29192ed51067c9e1166f10c44072c89c2cffe2004092747971a13c0096c2f001d075a685497ad4abaf8a334692f140d9d2abcefb1989fb1c22ae5942ae4a2ccc1fe1200e226c8a108589edb40ab0d0e0dc280044fef3db95d55efbece2166b678c3ef8067572badb32f3652e0b08b3c98a0185604e67e1b4cbcd253b20630203010001\n-----\nrecipient: 30819f300d06092a864886f70d010101050003818d0030818902818100949e27a6c2001e17fa8d6afabb4398cf43711b44261b0520680f9b6d0810aa61028d168faf1538647526e8743306108c78b7d207ef3ba0390d444a06bef3a9c0497a79f4294501430a11aa95ccd89779a79b7ddcad9c9c089dc363a18c66c83b0f9f36635c8f9a17d6cdc1e42a607f9bcc595a1e0995ce9c2ee2cbc29f8693790203010001\n-----\nvalue: 15.0\n-----\ntime: 2021-02-04 04:20:56.396418\n-----\n--------------\nsender: 30819f300d06092a864886f70d010101050003818d0030818902818100c49b29192ed51067c9e1166f10c44072c89c2cffe2004092747971a13c0096c2f001d075a685497ad4abaf8a334692f140d9d2abcefb1989fb1c22ae5942ae4a2ccc1fe1200e226c8a108589edb40ab0d0e0dc280044fef3db95d55efbece2166b678c3ef8067572badb32f3652e0b08b3c98a0185604e67e1b4cbcd253b20630203010001\n-----\nrecipient: 30819f300d06092a864886f70d010101050003818d0030818902818100949e27a6c2001e17fa8d6afabb4398cf43711b44261b0520680f9b6d0810aa61028d168faf1538647526e8743306108c78b7d207ef3ba0390d444a06bef3a9c0497a79f4294501430a11aa95ccd89779a79b7ddcad9c9c089dc363a18c66c83b0f9f36635c8f9a17d6cdc1e42a607f9bcc595a1e0995ce9c2ee2cbc29f8693790203010001\n-----\nvalue: 15.0\n-----\ntime: 2021-02-04 04:20:56.396418\n-----\n--------------\nsender: 30819f300d06092a864886f70d010101050003818d0030818902818100c49b29192ed51067c9e1166f10c44072c89c2cffe2004092747971a13c0096c2f001d075a685497ad4abaf8a334692f140d9d2abcefb1989fb1c22ae5942ae4a2ccc1fe1200e226c8a108589edb40ab0d0e0dc280044fef3db95d55efbece2166b678c3ef8067572badb32f3652e0b08b3c98a0185604e67e1b4cbcd253b20630203010001\n-----\nrecipient: 30819f300d06092a864886f70d010101050003818d0030818902818100949e27a6c2001e17fa8d6afabb4398cf43711b44261b0520680f9b6d0810aa61028d168faf1538647526e8743306108c78b7d207ef3ba0390d444a06bef3a9c0497a79f4294501430a11aa95ccd89779a79b7ddcad9c9c089dc363a18c66c83b0f9f36635c8f9a17d6cdc1e42a607f9bcc595a1e0995ce9c2ee2cbc29f8693790203010001\n-----\nvalue: 15.0\n-----\ntime: 2021-02-04 04:20:56.396418\n-----\n--------------\n=====================================\nblock # 4\nsender: 30819f300d06092a864886f70d010101050003818d0030818902818100c49b29192ed51067c9e1166f10c44072c89c2cffe2004092747971a13c0096c2f001d075a685497ad4abaf8a334692f140d9d2abcefb1989fb1c22ae5942ae4a2ccc1fe1200e226c8a108589edb40ab0d0e0dc280044fef3db95d55efbece2166b678c3ef8067572badb32f3652e0b08b3c98a0185604e67e1b4cbcd253b20630203010001\n-----\nrecipient: 30819f300d06092a864886f70d010101050003818d0030818902818100949e27a6c2001e17fa8d6afabb4398cf43711b44261b0520680f9b6d0810aa61028d168faf1538647526e8743306108c78b7d207ef3ba0390d444a06bef3a9c0497a79f4294501430a11aa95ccd89779a79b7ddcad9c9c089dc363a18c66c83b0f9f36635c8f9a17d6cdc1e42a607f9bcc595a1e0995ce9c2ee2cbc29f8693790203010001\n-----\nvalue: 15.0\n-----\ntime: 2021-02-04 04:20:56.396418\n-----\n--------------\nsender: 30819f300d06092a864886f70d010101050003818d0030818902818100c49b29192ed51067c9e1166f10c44072c89c2cffe2004092747971a13c0096c2f001d075a685497ad4abaf8a334692f140d9d2abcefb1989fb1c22ae5942ae4a2ccc1fe1200e226c8a108589edb40ab0d0e0dc280044fef3db95d55efbece2166b678c3ef8067572badb32f3652e0b08b3c98a0185604e67e1b4cbcd253b20630203010001\n-----\nrecipient: 30819f300d06092a864886f70d010101050003818d00308189028181008d25b9444ca5fa8181df4573bb36bfe58875129c04e58ac28bfa100925ecb38a50783351df76c37a0bad9eceb4ab81eae84b87ef09bf122c273151a963f252f760bab418c086cff101b0500101b6069ec64804453df02847c59bd1e86905ba3b69ce51aa09aa3e83300a6791616809fcb8adbd8aae06d4350addbe48bf7d09d70203010001\n-----\nvalue: 6.0\n-----\ntime: 2021-02-04 04:20:56.529990\n-----\n--------------\nsender: 30819f300d06092a864886f70d010101050003818d0030818902818100949e27a6c2001e17fa8d6afabb4398cf43711b44261b0520680f9b6d0810aa61028d168faf1538647526e8743306108c78b7d207ef3ba0390d444a06bef3a9c0497a79f4294501430a11aa95ccd89779a79b7ddcad9c9c089dc363a18c66c83b0f9f36635c8f9a17d6cdc1e42a607f9bcc595a1e0995ce9c2ee2cbc29f8693790203010001\n-----\nrecipient: 30819f300d06092a864886f70d010101050003818d0030818902818100ba7ad69d39e6e53734517e20a98e0ae57882b7939633620b59e77cb3c8eda52f55e8e68bb8185009f598bd33a39ba2994708af0dd90c84acdd9044c46b0df873fc2caba13e244346c5b60624b827ed6b1f971ebdce02c435e4ec99a8735744915cc5316af99877d65affe7bd0faea0c0c862f2c36d430002baacc0301cef39c30203010001\n-----\nvalue: 2.0\n-----\ntime: 2021-02-04 04:20:56.533988\n-----\n--------------\n=====================================\nblock # 5\nsender: 30819f300d06092a864886f70d010101050003818d00308189028181008d25b9444ca5fa8181df4573bb36bfe58875129c04e58ac28bfa100925ecb38a50783351df76c37a0bad9eceb4ab81eae84b87ef09bf122c273151a963f252f760bab418c086cff101b0500101b6069ec64804453df02847c59bd1e86905ba3b69ce51aa09aa3e83300a6791616809fcb8adbd8aae06d4350addbe48bf7d09d70203010001\n-----\nrecipient: 30819f300d06092a864886f70d010101050003818d0030818902818100949e27a6c2001e17fa8d6afabb4398cf43711b44261b0520680f9b6d0810aa61028d168faf1538647526e8743306108c78b7d207ef3ba0390d444a06bef3a9c0497a79f4294501430a11aa95ccd89779a79b7ddcad9c9c089dc363a18c66c83b0f9f36635c8f9a17d6cdc1e42a607f9bcc595a1e0995ce9c2ee2cbc29f8693790203010001\n-----\nvalue: 4.0\n-----\ntime: 2021-02-04 04:20:56.538008\n-----\n--------------\nsender: 30819f300d06092a864886f70d010101050003818d0030818902818100c49b29192ed51067c9e1166f10c44072c89c2cffe2004092747971a13c0096c2f001d075a685497ad4abaf8a334692f140d9d2abcefb1989fb1c22ae5942ae4a2ccc1fe1200e226c8a108589edb40ab0d0e0dc280044fef3db95d55efbece2166b678c3ef8067572badb32f3652e0b08b3c98a0185604e67e1b4cbcd253b20630203010001\n-----\nrecipient: 30819f300d06092a864886f70d010101050003818d00308189028181008d25b9444ca5fa8181df4573bb36bfe58875129c04e58ac28bfa100925ecb38a50783351df76c37a0bad9eceb4ab81eae84b87ef09bf122c273151a963f252f760bab418c086cff101b0500101b6069ec64804453df02847c59bd1e86905ba3b69ce51aa09aa3e83300a6791616809fcb8adbd8aae06d4350addbe48bf7d09d70203010001\n-----\nvalue: 7.0\n-----\ntime: 2021-02-04 04:20:56.540985\n-----\n--------------\nsender: 30819f300d06092a864886f70d010101050003818d00308189028181008d25b9444ca5fa8181df4573bb36bfe58875129c04e58ac28bfa100925ecb38a50783351df76c37a0bad9eceb4ab81eae84b87ef09bf122c273151a963f252f760bab418c086cff101b0500101b6069ec64804453df02847c59bd1e86905ba3b69ce51aa09aa3e83300a6791616809fcb8adbd8aae06d4350addbe48bf7d09d70203010001\n-----\nrecipient: 30819f300d06092a864886f70d010101050003818d0030818902818100ba7ad69d39e6e53734517e20a98e0ae57882b7939633620b59e77cb3c8eda52f55e8e68bb8185009f598bd33a39ba2994708af0dd90c84acdd9044c46b0df873fc2caba13e244346c5b60624b827ed6b1f971ebdce02c435e4ec99a8735744915cc5316af99877d65affe7bd0faea0c0c862f2c36d430002baacc0301cef39c30203010001\n-----\nvalue: 3.0\n-----\ntime: 2021-02-04 04:20:56.542986\n-----\n--------------\n=====================================\n"
     ]
    }
   ],
   "source": [
    "# Reviewing blockchain\n",
    "dump_blockchain(TPCoins)"
   ]
  },
  {
   "cell_type": "code",
   "execution_count": null,
   "metadata": {},
   "outputs": [],
   "source": []
  }
 ]
}