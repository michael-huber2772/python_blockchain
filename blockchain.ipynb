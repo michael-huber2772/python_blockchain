{
 "metadata": {
  "language_info": {
   "codemirror_mode": {
    "name": "ipython",
    "version": 3
   },
   "file_extension": ".py",
   "mimetype": "text/x-python",
   "name": "python",
   "nbconvert_exporter": "python",
   "pygments_lexer": "ipython3",
   "version": "3.8.3-final"
  },
  "orig_nbformat": 2,
  "kernelspec": {
   "name": "python3",
   "display_name": "Python 3.8.3 64-bit ('python_blockchain': pipenv)",
   "metadata": {
    "interpreter": {
     "hash": "3fd2571c99c8550f813447ea14a39ca5ee811223b9b86f31ca2ebec420eedf53"
    }
   }
  }
 },
 "nbformat": 4,
 "nbformat_minor": 2,
 "cells": [
  {
   "cell_type": "code",
   "execution_count": 1,
   "metadata": {},
   "outputs": [],
   "source": [
    "# import libraries\n",
    "import hashlib\n",
    "import random\n",
    "import string\n",
    "import json\n",
    "import binascii\n",
    "import numpy as np\n",
    "import pandas as pd\n",
    "import pylab as pl\n",
    "import logging\n",
    "import datetime\n",
    "import collections\n",
    "\n",
    "# following imports are required by PKI\n",
    "import Crypto\n",
    "import Crypto.Random\n",
    "from Crypto.Hash import SHA\n",
    "from Crypto.PublicKey import RSA\n",
    "from Crypto.Signature import PKCS1_v1_5"
   ]
  },
  {
   "cell_type": "code",
   "execution_count": 2,
   "metadata": {},
   "outputs": [],
   "source": [
    "class Client:\n",
    "   def __init__(self):\n",
    "      random = Crypto.Random.new().read\n",
    "      self._private_key = RSA.generate(1024, random)\n",
    "      self._public_key = self._private_key.publickey()\n",
    "      self._signer = PKCS1_v1_5.new(self._private_key)\n",
    "\n",
    "   @property\n",
    "   def identity(self):\n",
    "      return binascii.hexlify(self._public_key.exportKey(format='DER')).decode('ascii')"
   ]
  },
  {
   "cell_type": "code",
   "execution_count": 3,
   "metadata": {},
   "outputs": [
    {
     "output_type": "stream",
     "name": "stdout",
     "text": [
      "30819f300d06092a864886f70d010101050003818d0030818902818100958a67e5dc4ba4507cffc6485aeb5c46fdfff7048d1b31f32f36b46a13ef773258e76498e3139925f7dd45148ddf7f78daf43feb5c0fbc963f1f95f05b7f6d1e95f1ecc226b01d7679c258617d05e1f80252fdc4aaa206d45c50a5d24b76f51f983c0f2526f6de0ca5a0d7045671bda37306a8ec378c0e91b0389c1c0960fde30203010001\n"
     ]
    }
   ],
   "source": [
    "# How to use the client\n",
    "michael = Client()\n",
    "print(michael.identity)"
   ]
  },
  {
   "cell_type": "code",
   "execution_count": 4,
   "metadata": {},
   "outputs": [],
   "source": [
    "class Transaction:\n",
    "    '''\n",
    "    A class to represent a transaction\n",
    "\n",
    "    ...\n",
    "    \n",
    "    Attributes\n",
    "    -----------\n",
    "    sender : str\n",
    "        The senders public key taken from their instance of the Client()\n",
    "    recipient : str\n",
    "        The recipients public key taken from their instance of the Client()\n",
    "    value : int\n",
    "        The amount of coins to be sent in the transaction\n",
    "    time : datetime\n",
    "        Time the transaction took place\n",
    "\n",
    "    Mehtods\n",
    "    -------\n",
    "    to_dict():\n",
    "        Utiltiy method that combines all four attributes into a dictionary object\n",
    "    sign_transaction():\n",
    "        Used to sign the dictionary object from to_dict with the private key of the sender\n",
    "    '''\n",
    "    def __init__(self, sender, recipient, value):\n",
    "        '''\n",
    "        Constructs the 4 needed attributes for the person object\n",
    "\n",
    "            Parameters:\n",
    "            -----------\n",
    "                sender : str\n",
    "                    The senders public key taken from their instance of the Client()\n",
    "                recipient : str\n",
    "                    The recipients public key taken from their instance of the Client()\n",
    "                value : int\n",
    "                    The amount of coins to be sent in the transaction\n",
    "        \n",
    "            Returns:\n",
    "            --------\n",
    "                instance variables that can be used by other methods.\n",
    "        '''\n",
    "        self.sender = sender\n",
    "        self.recipient = recipient\n",
    "        self.value = value\n",
    "        self.time = datetime.datetime.now()\n",
    "\n",
    "    def to_dict(self):\n",
    "        '''\n",
    "        Utiltiy method that combines all four attributes into a dictionary object\n",
    "\n",
    "        The if, else checks whehter the sender of the transaction has the identity of Genesis. \n",
    "        If so they are assigned the value of genesis so their identity is kept secret\n",
    "\n",
    "        Returns\n",
    "        -------\n",
    "        Dictionary Object containing the four attributes that make up a transaction\n",
    "        '''\n",
    "        if self.sender == \"Genesis\":\n",
    "            identity = \"Genesis\"\n",
    "        else:\n",
    "            identity = self.sender.identity\n",
    "\n",
    "        return collections.OrderedDict({\n",
    "            'sender': identity,\n",
    "            'recipient': self.recipient,\n",
    "            'value': self.value,\n",
    "            'time' : self.time})\n",
    "\n",
    "     # Used to retrieve the senders private key       \n",
    "    def sign_transaction(self):\n",
    "        '''\n",
    "        Used to sign the dictionary object from to_dict with the private key of the sender\n",
    "\n",
    "        Returns\n",
    "        -------\n",
    "        The private key of the sender\n",
    "        '''\n",
    "        private_key = self.sender._private_key\n",
    "        signer = PKCS1_v1_5.new(private_key)\n",
    "        h = SHA.new(str(self.to_dict()).encode('utf8'))\n",
    "        return binascii.hexlify(signer.sign(h)).decode('ascii')\n"
   ]
  },
  {
   "cell_type": "code",
   "execution_count": 5,
   "metadata": {},
   "outputs": [
    {
     "output_type": "stream",
     "name": "stdout",
     "text": [
      "OrderedDict([('sender', '30819f300d06092a864886f70d010101050003818d0030818902818100cecc5a8665dd46424f0b1fc225e89d2a3d4f81e7aabf32dc15704d94dc236c42a689937ca519678194623452ca3af6bde616d80e38aea1f309c4a00d291dd3fa543c7aad85dc27ae2839400e043590c13a7632ace2eb9ae7b2b9f24fce3f358f9e3487fd0d2cb5be0fd33ee88b6914617c58b59956fe08d47e4a14dd79d1021d0203010001'), ('recipient', '30819f300d06092a864886f70d010101050003818d0030818902818100cb68d12ede8d6400c552bd36640641f055282946adf82f290f621c6347cce76da9808b37660232d4252a135fae258263ea6828aabff1dcd35630876687394b583a4ae7e7a6657cf0c79e2653885e5fe6c9c2261f226274ee6a998141a6d3f9eb533b870b65150285954b008ffc9dd7ee21118fbc9b52e46eb416c2998058b04f0203010001'), ('value', 5.0), ('time', datetime.datetime(2021, 2, 1, 17, 38, 44, 481989))])\n68219d5263729ece4f0831ce1fccd94e870b05907526ea8241d6ab614fbca85ff9e2807fcbc182bec7977e4a0f8362a5fbbb119e750b84cb9c0f2f4ed70d76a56eca354136ef6f92e00445dbe8b78af7f667e7a744c762cb3aae57cfdf52a358a4e5a62b93f553cdc9c36f9d3f4c469a192823e3be2d46642227d8221276f3d8\n"
     ]
    }
   ],
   "source": [
    "# Testing the Transaction Class\n",
    "\n",
    "# Michael is going to send 5 coins to Tyler\n",
    "# To do this we first create the clients\n",
    "michael = Client()\n",
    "tyler = Client()\n",
    "\n",
    "# Create the transaction with the following code\n",
    "t = Transaction(\n",
    "    michael,  # Sender\n",
    "    tyler.identity, # Gets tylers public key\n",
    "    5.0  # Amount transferred\n",
    ")\n",
    "\n",
    "# Printing the transaction to review it\n",
    "print(t.to_dict())\n",
    "\n",
    "# Once we have created the transaction we can sign it with the senders private key.\n",
    "signature = t.sign_transaction()\n",
    "print(signature)\n"
   ]
  },
  {
   "cell_type": "code",
   "execution_count": 6,
   "metadata": {},
   "outputs": [],
   "source": [
    "# Next section to start https://www.tutorialspoint.com/python_blockchain/python_blockchain_creating_multiple_transactions.htm"
   ]
  },
  {
   "cell_type": "code",
   "execution_count": 7,
   "metadata": {},
   "outputs": [],
   "source": [
    "def display_transaction(transaction):\n",
    "   #for transaction in transactions:\n",
    "   dict = transaction.to_dict()\n",
    "   print (\"sender: \" + dict['sender'])\n",
    "   print ('-----')\n",
    "   print (\"recipient: \" + dict['recipient'])\n",
    "   print ('-----')\n",
    "   print (\"value: \" + str(dict['value']))\n",
    "   print ('-----')\n",
    "   print (\"time: \" + str(dict['time']))\n",
    "   print ('-----')"
   ]
  },
  {
   "cell_type": "code",
   "execution_count": 8,
   "metadata": {},
   "outputs": [],
   "source": [
    "# Queue Where transactions are stored before they are added to the blockchain\n",
    "# Not implementing the queue management logic\n",
    "transactions = []"
   ]
  },
  {
   "cell_type": "code",
   "execution_count": 9,
   "metadata": {},
   "outputs": [],
   "source": [
    "# Creating multiple clients\n",
    "mike = Client()\n",
    "steve = Client()\n",
    "rose = Client()\n",
    "rachel = Client()"
   ]
  },
  {
   "cell_type": "code",
   "execution_count": 10,
   "metadata": {},
   "outputs": [],
   "source": [
    "# Initiating the first transaction\n",
    "t1 = Transaction(\n",
    "    mike,\n",
    "    steve.identity,\n",
    "    15.0\n",
    ")"
   ]
  },
  {
   "cell_type": "code",
   "execution_count": 11,
   "metadata": {},
   "outputs": [],
   "source": [
    "# Adding the first transaction to the queue\n",
    "t1.sign_transaction()\n",
    "transactions.append(t1)"
   ]
  },
  {
   "cell_type": "code",
   "execution_count": 12,
   "metadata": {},
   "outputs": [],
   "source": [
    "t2 = Transaction(\n",
    "   mike,\n",
    "   rose.identity,\n",
    "   6.0\n",
    ")\n",
    "t2.sign_transaction()\n",
    "transactions.append(t2)\n",
    "t3 = Transaction(\n",
    "   steve,\n",
    "   rachel.identity,\n",
    "   2.0\n",
    ")\n",
    "t3.sign_transaction()\n",
    "transactions.append(t3)\n",
    "t4 = Transaction(\n",
    "   rose,\n",
    "   steve.identity,\n",
    "   4.0\n",
    ")\n",
    "t4.sign_transaction()\n",
    "transactions.append(t4)\n",
    "t5 = Transaction(\n",
    "   mike,\n",
    "   rose.identity,\n",
    "   7.0\n",
    ")\n",
    "t5.sign_transaction()\n",
    "transactions.append(t5)\n",
    "t6 = Transaction(\n",
    "   rose,\n",
    "   rachel.identity,\n",
    "   3.0\n",
    ")\n",
    "t6.sign_transaction()\n",
    "transactions.append(t6)\n",
    "t7 = Transaction(\n",
    "   rachel,\n",
    "   steve.identity,\n",
    "   8.0\n",
    ")\n",
    "t7.sign_transaction()\n",
    "transactions.append(t7)\n",
    "t8 = Transaction(\n",
    "   rachel,\n",
    "   mike.identity,\n",
    "   1.0\n",
    ")\n",
    "t8.sign_transaction()\n",
    "transactions.append(t8)\n",
    "t9 = Transaction(\n",
    "   steve,\n",
    "   mike.identity,\n",
    "   5.0\n",
    ")\n",
    "t9.sign_transaction()\n",
    "transactions.append(t9)\n",
    "t10 = Transaction(\n",
    "   steve,\n",
    "   rose.identity,\n",
    "   3.0\n",
    ")\n",
    "t10.sign_transaction()\n",
    "transactions.append(t10)"
   ]
  },
  {
   "cell_type": "code",
   "execution_count": 13,
   "metadata": {},
   "outputs": [
    {
     "output_type": "stream",
     "name": "stdout",
     "text": [
      "sender: 30819f300d06092a864886f70d010101050003818d0030818902818100b10c998544463e3fae38f898518bdf4c383c033db77dccec1905ba3f94ab371545c5fbb43bf04e096e306d731146b42bb7359234f4bccadfdbb20487e52a123cff037988d89d6dc906f228648eeb635577c66c3e4cd11a958cbce84f11908787a63a024a70847b383e555b5260bf455df1c67cddb8b875d915ddb5daf72f9f870203010001\n-----\nrecipient: 30819f300d06092a864886f70d010101050003818d0030818902818100d62bc4caf8049f1a9ecaba11f75d51954747707339e25f00ba146761cd7d54b62c7063ad481ce8d1dff4c12ed8606fdd34c6c215a174b0c945f191831b068fd88774a398bf3606f508716a0394d2d1d280062b7562362f64af07fbabb590aeb2369c5c9ff919ac065b12e5d8aca8d7d3388d949c3108b4f9b280272667a4e4470203010001\n-----\nvalue: 15.0\n-----\ntime: 2021-02-01 17:38:45.258251\n-----\n----------------\nsender: 30819f300d06092a864886f70d010101050003818d0030818902818100b10c998544463e3fae38f898518bdf4c383c033db77dccec1905ba3f94ab371545c5fbb43bf04e096e306d731146b42bb7359234f4bccadfdbb20487e52a123cff037988d89d6dc906f228648eeb635577c66c3e4cd11a958cbce84f11908787a63a024a70847b383e555b5260bf455df1c67cddb8b875d915ddb5daf72f9f870203010001\n-----\nrecipient: 30819f300d06092a864886f70d010101050003818d0030818902818100aeedebc45a95f3d77557035c75dd0e367ba25734fda33bab471e1e6c1867760874a9c58c3588932ae09cf898bf4593454257d3b208977d143da896a93c36bf4223d3d33a7b09884811b57e632386695bde3e4c5500f53b683cf0f35c6c952debbbde01ea7c5ea6ab52ca8e2d29e73431eb905d5fdea67e04a57e2e23c0e5c8ff0203010001\n-----\nvalue: 6.0\n-----\ntime: 2021-02-01 17:38:45.372254\n-----\n----------------\nsender: 30819f300d06092a864886f70d010101050003818d0030818902818100d62bc4caf8049f1a9ecaba11f75d51954747707339e25f00ba146761cd7d54b62c7063ad481ce8d1dff4c12ed8606fdd34c6c215a174b0c945f191831b068fd88774a398bf3606f508716a0394d2d1d280062b7562362f64af07fbabb590aeb2369c5c9ff919ac065b12e5d8aca8d7d3388d949c3108b4f9b280272667a4e4470203010001\n-----\nrecipient: 30819f300d06092a864886f70d010101050003818d0030818902818100e929f97fe58f5cfd623ef4ef38709552e5a5ebb25829e73b3a5e6d5003e804b321512eefd00c4256e9972a55d311a663d7c3bc52ca255fefb539d289e2ffe0aaaf22a68823d54a9e676cc76c317072167fe8f28b3f18ba14036fee1f6b436c8f927d71fdc949f24546deb8bb860ee3a1a1024857845ad7534ba6a96996306e5d0203010001\n-----\nvalue: 2.0\n-----\ntime: 2021-02-01 17:38:45.376257\n-----\n----------------\nsender: 30819f300d06092a864886f70d010101050003818d0030818902818100aeedebc45a95f3d77557035c75dd0e367ba25734fda33bab471e1e6c1867760874a9c58c3588932ae09cf898bf4593454257d3b208977d143da896a93c36bf4223d3d33a7b09884811b57e632386695bde3e4c5500f53b683cf0f35c6c952debbbde01ea7c5ea6ab52ca8e2d29e73431eb905d5fdea67e04a57e2e23c0e5c8ff0203010001\n-----\nrecipient: 30819f300d06092a864886f70d010101050003818d0030818902818100d62bc4caf8049f1a9ecaba11f75d51954747707339e25f00ba146761cd7d54b62c7063ad481ce8d1dff4c12ed8606fdd34c6c215a174b0c945f191831b068fd88774a398bf3606f508716a0394d2d1d280062b7562362f64af07fbabb590aeb2369c5c9ff919ac065b12e5d8aca8d7d3388d949c3108b4f9b280272667a4e4470203010001\n-----\nvalue: 4.0\n-----\ntime: 2021-02-01 17:38:45.381253\n-----\n----------------\nsender: 30819f300d06092a864886f70d010101050003818d0030818902818100b10c998544463e3fae38f898518bdf4c383c033db77dccec1905ba3f94ab371545c5fbb43bf04e096e306d731146b42bb7359234f4bccadfdbb20487e52a123cff037988d89d6dc906f228648eeb635577c66c3e4cd11a958cbce84f11908787a63a024a70847b383e555b5260bf455df1c67cddb8b875d915ddb5daf72f9f870203010001\n-----\nrecipient: 30819f300d06092a864886f70d010101050003818d0030818902818100aeedebc45a95f3d77557035c75dd0e367ba25734fda33bab471e1e6c1867760874a9c58c3588932ae09cf898bf4593454257d3b208977d143da896a93c36bf4223d3d33a7b09884811b57e632386695bde3e4c5500f53b683cf0f35c6c952debbbde01ea7c5ea6ab52ca8e2d29e73431eb905d5fdea67e04a57e2e23c0e5c8ff0203010001\n-----\nvalue: 7.0\n-----\ntime: 2021-02-01 17:38:45.387249\n-----\n----------------\nsender: 30819f300d06092a864886f70d010101050003818d0030818902818100aeedebc45a95f3d77557035c75dd0e367ba25734fda33bab471e1e6c1867760874a9c58c3588932ae09cf898bf4593454257d3b208977d143da896a93c36bf4223d3d33a7b09884811b57e632386695bde3e4c5500f53b683cf0f35c6c952debbbde01ea7c5ea6ab52ca8e2d29e73431eb905d5fdea67e04a57e2e23c0e5c8ff0203010001\n-----\nrecipient: 30819f300d06092a864886f70d010101050003818d0030818902818100e929f97fe58f5cfd623ef4ef38709552e5a5ebb25829e73b3a5e6d5003e804b321512eefd00c4256e9972a55d311a663d7c3bc52ca255fefb539d289e2ffe0aaaf22a68823d54a9e676cc76c317072167fe8f28b3f18ba14036fee1f6b436c8f927d71fdc949f24546deb8bb860ee3a1a1024857845ad7534ba6a96996306e5d0203010001\n-----\nvalue: 3.0\n-----\ntime: 2021-02-01 17:38:45.392251\n-----\n----------------\nsender: 30819f300d06092a864886f70d010101050003818d0030818902818100e929f97fe58f5cfd623ef4ef38709552e5a5ebb25829e73b3a5e6d5003e804b321512eefd00c4256e9972a55d311a663d7c3bc52ca255fefb539d289e2ffe0aaaf22a68823d54a9e676cc76c317072167fe8f28b3f18ba14036fee1f6b436c8f927d71fdc949f24546deb8bb860ee3a1a1024857845ad7534ba6a96996306e5d0203010001\n-----\nrecipient: 30819f300d06092a864886f70d010101050003818d0030818902818100d62bc4caf8049f1a9ecaba11f75d51954747707339e25f00ba146761cd7d54b62c7063ad481ce8d1dff4c12ed8606fdd34c6c215a174b0c945f191831b068fd88774a398bf3606f508716a0394d2d1d280062b7562362f64af07fbabb590aeb2369c5c9ff919ac065b12e5d8aca8d7d3388d949c3108b4f9b280272667a4e4470203010001\n-----\nvalue: 8.0\n-----\ntime: 2021-02-01 17:38:45.396251\n-----\n----------------\nsender: 30819f300d06092a864886f70d010101050003818d0030818902818100e929f97fe58f5cfd623ef4ef38709552e5a5ebb25829e73b3a5e6d5003e804b321512eefd00c4256e9972a55d311a663d7c3bc52ca255fefb539d289e2ffe0aaaf22a68823d54a9e676cc76c317072167fe8f28b3f18ba14036fee1f6b436c8f927d71fdc949f24546deb8bb860ee3a1a1024857845ad7534ba6a96996306e5d0203010001\n-----\nrecipient: 30819f300d06092a864886f70d010101050003818d0030818902818100b10c998544463e3fae38f898518bdf4c383c033db77dccec1905ba3f94ab371545c5fbb43bf04e096e306d731146b42bb7359234f4bccadfdbb20487e52a123cff037988d89d6dc906f228648eeb635577c66c3e4cd11a958cbce84f11908787a63a024a70847b383e555b5260bf455df1c67cddb8b875d915ddb5daf72f9f870203010001\n-----\nvalue: 1.0\n-----\ntime: 2021-02-01 17:38:45.400300\n-----\n----------------\nsender: 30819f300d06092a864886f70d010101050003818d0030818902818100d62bc4caf8049f1a9ecaba11f75d51954747707339e25f00ba146761cd7d54b62c7063ad481ce8d1dff4c12ed8606fdd34c6c215a174b0c945f191831b068fd88774a398bf3606f508716a0394d2d1d280062b7562362f64af07fbabb590aeb2369c5c9ff919ac065b12e5d8aca8d7d3388d949c3108b4f9b280272667a4e4470203010001\n-----\nrecipient: 30819f300d06092a864886f70d010101050003818d0030818902818100b10c998544463e3fae38f898518bdf4c383c033db77dccec1905ba3f94ab371545c5fbb43bf04e096e306d731146b42bb7359234f4bccadfdbb20487e52a123cff037988d89d6dc906f228648eeb635577c66c3e4cd11a958cbce84f11908787a63a024a70847b383e555b5260bf455df1c67cddb8b875d915ddb5daf72f9f870203010001\n-----\nvalue: 5.0\n-----\ntime: 2021-02-01 17:38:45.404253\n-----\n----------------\nsender: 30819f300d06092a864886f70d010101050003818d0030818902818100d62bc4caf8049f1a9ecaba11f75d51954747707339e25f00ba146761cd7d54b62c7063ad481ce8d1dff4c12ed8606fdd34c6c215a174b0c945f191831b068fd88774a398bf3606f508716a0394d2d1d280062b7562362f64af07fbabb590aeb2369c5c9ff919ac065b12e5d8aca8d7d3388d949c3108b4f9b280272667a4e4470203010001\n-----\nrecipient: 30819f300d06092a864886f70d010101050003818d0030818902818100aeedebc45a95f3d77557035c75dd0e367ba25734fda33bab471e1e6c1867760874a9c58c3588932ae09cf898bf4593454257d3b208977d143da896a93c36bf4223d3d33a7b09884811b57e632386695bde3e4c5500f53b683cf0f35c6c952debbbde01ea7c5ea6ab52ca8e2d29e73431eb905d5fdea67e04a57e2e23c0e5c8ff0203010001\n-----\nvalue: 3.0\n-----\ntime: 2021-02-01 17:38:45.407485\n-----\n----------------\n"
     ]
    }
   ],
   "source": [
    "for transaction in transactions:\n",
    "    display_transaction (transaction)\n",
    "    print('----------------')"
   ]
  },
  {
   "source": [
    "A block consists of a varying number of transactions. For simplicity, in our case we will assume that the block consists of a fixed number of transactions"
   ],
   "cell_type": "markdown",
   "metadata": {}
  },
  {
   "cell_type": "code",
   "execution_count": 14,
   "metadata": {},
   "outputs": [],
   "source": [
    "# blockchain is a list of blocks chained to each other\n",
    "# For our list we will create the following list variable\n",
    "TPCoins = []\n",
    "\n",
    "class Block:\n",
    "    '''\n",
    "    Blockchain\n",
    "    ...\n",
    "\n",
    "    Attributes\n",
    "    -----------\n",
    "    verified_transactions : list\n",
    "        Verified transactions will be added to this block. Each block also contains the\n",
    "        hash value of the previous block. Making the chain immutable\n",
    "    previous_block_hash : str\n",
    "        Instance varaible to store the previous hash\n",
    "    Nonce : str\n",
    "        Variable to store the Nonce created by the miner during the mining process\n",
    "\n",
    "    Methods\n",
    "    -------\n",
    "    dump_blockchain:\n",
    "        dumps the contents of the entire blockchain.\n",
    "    '''\n",
    "    def __init__(self):\n",
    "        self.verified_transactions = []\n",
    "        self.previous_block_hash = ''\n",
    "        self.Nonce = ''\n",
    "\n",
    "    def dump_blockchain(self):\n",
    "        '''\n",
    "        Dumps the contents of the entire blockchain.\n",
    "\n",
    "        Description\n",
    "        ------------\n",
    "        1. It prints the number of blocks in the current blockchain\n",
    "        2. Next the blocks are copied to a temp variable named block_temp\n",
    "        3. Print block number as heading for each block\n",
    "        4. Then iterate over the transactions in each block\n",
    "        '''\n",
    "        print('Number of blocks in the chain: ' + str(len (self)))\n",
    "\n",
    "        for x in range (len(TPCoins)):\n",
    "            block_temp = TPCoins[x]\n",
    "            print('block # ' + str(x))\n",
    "            for transaction in block_temp.verified_transactions:\n",
    "                display_transaction (transaction)\n",
    "                print ('--------------')\n",
    "            print ('=====================================')\n",
    "\n",
    "# Global variable \n",
    "last_block_hash = ''"
   ]
  },
  {
   "cell_type": "code",
   "execution_count": 15,
   "metadata": {},
   "outputs": [],
   "source": [
    "# Genesis block: 500 coins are given out to the client michael\n",
    "michael = Client()\n",
    "\n",
    "t0 = Transaction (\n",
    "    'Genesis',\n",
    "    michael.identity,\n",
    "    500.00\n",
    ")\n",
    "\n",
    "# Create an instance of the Block class\n",
    "block0 = Block()\n",
    "\n",
    "# Where this is the first block we initialize the previous_block_hash and Nonce to none.\n",
    "block0.previous_block_hash = None \n",
    "block0.Nonce = None\n",
    "\n",
    "# Add the transaction to the verified transactions\n",
    "block0.verified_transactions.append (t0)\n",
    "\n",
    "# The block is now ready to be added to the blockchain. Before we do this we will hash the\n",
    "# block and store its value in the global variable `last_block_hash`\n",
    "digest = hash (block0)\n",
    "last_block_hash = digest"
   ]
  },
  {
   "cell_type": "code",
   "execution_count": null,
   "metadata": {},
   "outputs": [],
   "source": [
    "\n",
    "\n",
    "\n",
    "# https://www.tutorialspoint.com/python_blockchain/python_creating_blockchain.htm\n"
   ]
  }
 ]
}